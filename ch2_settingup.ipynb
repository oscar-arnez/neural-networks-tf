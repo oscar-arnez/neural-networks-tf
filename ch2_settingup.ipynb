{
  "nbformat": 4,
  "nbformat_minor": 0,
  "metadata": {
    "colab": {
      "provenance": [],
      "authorship_tag": "ABX9TyPiBWqMb9BAjoeXBrGYQv/a",
      "include_colab_link": true
    },
    "kernelspec": {
      "name": "python3",
      "display_name": "Python 3"
    },
    "language_info": {
      "name": "python"
    }
  },
  "cells": [
    {
      "cell_type": "markdown",
      "metadata": {
        "id": "view-in-github",
        "colab_type": "text"
      },
      "source": [
        "<a href=\"https://colab.research.google.com/github/oscar-arnez/neural-networks-tf/blob/main/ch2_settingup.ipynb\" target=\"_parent\"><img src=\"https://colab.research.google.com/assets/colab-badge.svg\" alt=\"Open In Colab\"/></a>"
      ]
    },
    {
      "cell_type": "code",
      "execution_count": 2,
      "metadata": {
        "colab": {
          "base_uri": "https://localhost:8080/"
        },
        "id": "fsn6Wy7aoUjF",
        "outputId": "0da8daec-b1f8-4409-e3d1-8f26f0784028"
      },
      "outputs": [
        {
          "output_type": "stream",
          "name": "stdout",
          "text": [
            "3.10.12\n"
          ]
        }
      ],
      "source": [
        "from platform import python_version\n",
        "\n",
        "print(python_version())"
      ]
    },
    {
      "cell_type": "markdown",
      "source": [
        "# My First Colab notebook"
      ],
      "metadata": {
        "id": "Kfhnxx4xqSc9"
      }
    },
    {
      "cell_type": "code",
      "source": [],
      "metadata": {
        "id": "gVEXdQu0qLvx"
      },
      "execution_count": null,
      "outputs": []
    }
  ]
}